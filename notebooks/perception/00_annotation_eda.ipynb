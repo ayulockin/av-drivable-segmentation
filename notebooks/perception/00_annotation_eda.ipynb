{
 "cells": [
  {
   "cell_type": "code",
   "execution_count": 1,
   "id": "a2971b09-2215-4d68-937c-5b8efcd151d7",
   "metadata": {},
   "outputs": [
    {
     "name": "stderr",
     "output_type": "stream",
     "text": [
      "/opt/conda/lib/python3.7/site-packages/ipykernel_launcher.py:8: TqdmExperimentalWarning: Using `tqdm.autonotebook.tqdm` in notebook mode. Use `tqdm.tqdm` instead to force console mode (e.g. in jupyter console)\n",
      "  \n"
     ]
    }
   ],
   "source": [
    "import os\n",
    "import json\n",
    "import wandb\n",
    "import numpy as np\n",
    "from glob import glob\n",
    "from PIL import Image, ImageOps\n",
    "import matplotlib.pyplot as plt\n",
    "from tqdm.autonotebook import tqdm\n",
    "from sahi.utils.file import save_json\n",
    "from sahi.utils.coco import Coco, CocoCategory, CocoImage, CocoAnnotation"
   ]
  },
  {
   "cell_type": "markdown",
   "id": "dcc92478-5603-4831-a3e3-46bfd2498174",
   "metadata": {},
   "source": [
    "## Save COCO Annotations"
   ]
  },
  {
   "cell_type": "code",
   "execution_count": 2,
   "id": "ff6ea834-00ef-4e98-b15b-779e7e3e2004",
   "metadata": {},
   "outputs": [
    {
     "data": {
      "text/plain": [
       "69863"
      ]
     },
     "execution_count": 2,
     "metadata": {},
     "output_type": "execute_result"
    }
   ],
   "source": [
    "train_annotation_file = \"./data/bdd100k/labels/bdd100k_labels_images_train.json\"\n",
    "with open(train_annotation_file) as json_file:\n",
    "    train_annotations = json.load(json_file)\n",
    "len(train_annotations)"
   ]
  },
  {
   "cell_type": "code",
   "execution_count": 4,
   "id": "9068f0e4-1eaa-45a4-84e5-565b9085012a",
   "metadata": {},
   "outputs": [
    {
     "data": {
      "application/vnd.jupyter.widget-view+json": {
       "model_id": "9691a7d5694e469ebc60225e41a9a84c",
       "version_major": 2,
       "version_minor": 0
      },
      "text/plain": [
       "  0%|          | 0/69863 [00:00<?, ?it/s]"
      ]
     },
     "metadata": {},
     "output_type": "display_data"
    }
   ],
   "source": [
    "all_labels = []\n",
    "for annotation in tqdm(train_annotations):\n",
    "    for label in annotation[\"labels\"]:\n",
    "        if \"box2d\" in label.keys():\n",
    "            all_labels.append(label[\"category\"])"
   ]
  },
  {
   "cell_type": "code",
   "execution_count": 3,
   "id": "59117694-86d7-40e6-8e6a-c22d6eed6e06",
   "metadata": {},
   "outputs": [],
   "source": [
    "LABEL_MAP = {\n",
    "    \"person\": 0,\n",
    "    \"rider\": 1,\n",
    "    \"car\": 2,\n",
    "    \"truck\": 3,\n",
    "    \"bus\": 4,\n",
    "    \"train\": 5,\n",
    "    \"motor\": 6,\n",
    "    \"bike\": 7,\n",
    "    \"traffic light\": 8,\n",
    "    \"traffic sign\": 9,\n",
    "}"
   ]
  },
  {
   "cell_type": "code",
   "execution_count": 4,
   "id": "dcc307b2-e621-43d4-93c5-8a00e0524527",
   "metadata": {},
   "outputs": [],
   "source": [
    "def corners_to_coco(x1, y1, x2, y2, image_w, image_h):\n",
    "    return [\n",
    "        ((x2 + x1) / 2),\n",
    "        ((y2 + y1) / 2),\n",
    "        x2 - x1,\n",
    "        y2 - y1\n",
    "    ]"
   ]
  },
  {
   "cell_type": "code",
   "execution_count": 5,
   "id": "68bf2786-cb73-4d30-acbb-d915e2f3fdba",
   "metadata": {},
   "outputs": [],
   "source": [
    "coco = Coco()\n",
    "\n",
    "coco.add_category(CocoCategory(id=0, name=\"person\"))\n",
    "coco.add_category(CocoCategory(id=1, name=\"rider\"))\n",
    "coco.add_category(CocoCategory(id=2, name=\"car\"))\n",
    "coco.add_category(CocoCategory(id=3, name=\"truck\"))\n",
    "coco.add_category(CocoCategory(id=4, name=\"bus\"))\n",
    "coco.add_category(CocoCategory(id=5, name=\"train\"))\n",
    "coco.add_category(CocoCategory(id=6, name=\"motor\"))\n",
    "coco.add_category(CocoCategory(id=7, name=\"bike\"))\n",
    "coco.add_category(CocoCategory(id=8, name=\"traffic light\"))\n",
    "coco.add_category(CocoCategory(id=9, name=\"traffic sign\"))"
   ]
  },
  {
   "cell_type": "code",
   "execution_count": 6,
   "id": "413248ca-d76c-42b5-8d1e-7ba7aa485568",
   "metadata": {},
   "outputs": [],
   "source": [
    "IMAGE_DIR = \"./data/bdd100k/images/100k/train/\""
   ]
  },
  {
   "cell_type": "code",
   "execution_count": 7,
   "id": "283ad4e9-3907-4c91-9d5b-6c0f8a25770f",
   "metadata": {},
   "outputs": [],
   "source": [
    "for annotation in tqdm(train_annotations):\n",
    "    image_file = annotation[\"name\"]\n",
    "    if os.path.isfile(os.path.join(IMAGE_DIR, image_file)):\n",
    "        width, height = Image.open(os.path.join(IMAGE_DIR, image_file)).size\n",
    "        coco_image = CocoImage(file_name=image_file, height=height, width=width)\n",
    "        for label in annotation[\"labels\"]:\n",
    "            if \"box2d\" in label.keys():\n",
    "                bbox = corners_to_coco(\n",
    "                    label[\"box2d\"][\"x1\"],\n",
    "                    label[\"box2d\"][\"y1\"],\n",
    "                    label[\"box2d\"][\"x2\"],\n",
    "                    label[\"box2d\"][\"y2\"],\n",
    "                    width, height\n",
    "                )\n",
    "                category_name = label[\"category\"]\n",
    "                category_id = LABEL_MAP[category_name]\n",
    "                coco_image.add_annotation(\n",
    "                    CocoAnnotation(\n",
    "                        bbox=bbox,\n",
    "                        category_id=category_id,\n",
    "                        category_name=category_name\n",
    "                    )\n",
    "                )\n",
    "        coco.add_image(coco_image)"
   ]
  },
  {
   "cell_type": "code",
   "execution_count": 8,
   "id": "78c10538-2aa5-462c-a702-21fd718032ef",
   "metadata": {},
   "outputs": [],
   "source": [
    "save_json(\n",
    "    data=coco.json,\n",
    "    save_path=\"./data/bdd100k/labels/coco_detection_train_100k.json\"\n",
    ")"
   ]
  },
  {
   "cell_type": "markdown",
   "id": "6e6d8de0-09d2-4b30-8f7c-8eb9711477e2",
   "metadata": {},
   "source": [
    "## EDA on Segmentation"
   ]
  },
  {
   "cell_type": "code",
   "execution_count": 9,
   "id": "86501db1-1e53-4a7a-803b-b43be21ee0f4",
   "metadata": {},
   "outputs": [],
   "source": [
    "SEGMENTATION_LABEL_MAP = {\n",
    "    0:  \"road\",\n",
    "    1:  \"sidewalk\",\n",
    "    2:  \"building\",\n",
    "    3:  \"wall\",\n",
    "    4:  \"fence\",\n",
    "    5:  \"pole\",\n",
    "    6:  \"traffic light\",\n",
    "    7:  \"traffic sign\",\n",
    "    8:  \"vegetation\",\n",
    "    9:  \"terrain\",\n",
    "    10: \"sky\",\n",
    "    11: \"person\",\n",
    "    12: \"rider\",\n",
    "    13: \"car\",\n",
    "    14: \"truck\",\n",
    "    15: \"bus\",\n",
    "    16: \"train\",\n",
    "    17: \"motorcycle\",\n",
    "    18: \"bicycle\",\n",
    "    255: \"unknown\"\n",
    "}"
   ]
  },
  {
   "cell_type": "code",
   "execution_count": 10,
   "id": "3898d752-9d27-40a2-835d-c41a7e300cb2",
   "metadata": {},
   "outputs": [
    {
     "data": {
      "text/plain": [
       "(7000, 1000)"
      ]
     },
     "execution_count": 10,
     "metadata": {},
     "output_type": "execute_result"
    }
   ],
   "source": [
    "train_segmentation_labels = glob(\"./data/bdd100k/labels/sem_seg/masks/train/*\")\n",
    "val_segmentation_labels = glob(\"./data/bdd100k/labels/sem_seg/masks/val/*\")\n",
    "len(train_segmentation_labels), len(val_segmentation_labels)"
   ]
  },
  {
   "cell_type": "code",
   "execution_count": 12,
   "id": "fb6e2727-35c1-4351-8dcf-682df84319cf",
   "metadata": {},
   "outputs": [
    {
     "data": {
      "application/vnd.jupyter.widget-view+json": {
       "model_id": "924e28dfcb67443285f1083c791b8e44",
       "version_major": 2,
       "version_minor": 0
      },
      "text/plain": [
       "  0%|          | 0/69863 [00:00<?, ?it/s]"
      ]
     },
     "metadata": {},
     "output_type": "display_data"
    }
   ],
   "source": [
    "common_det_seg_files_train = []\n",
    "for annotation in tqdm(train_annotations):\n",
    "    image_file = annotation[\"name\"]\n",
    "    if os.path.isfile(\n",
    "        os.path.join(\n",
    "            \"./data/bdd100k/labels/sem_seg/masks/train/\",\n",
    "            image_file[:-4] + \".png\"\n",
    "        )\n",
    "    ):\n",
    "        common_det_seg_files_train.append(annotation)\n",
    "        len(common_det_seg_files_train)"
   ]
  },
  {
   "cell_type": "code",
   "execution_count": 13,
   "id": "43a00253-78f3-4ce6-a33e-a1ea6fcd1e6b",
   "metadata": {},
   "outputs": [],
   "source": [
    "# with wandb.init(project=\"bdd100k\", entity=\"av-demo\", job_type=\"dev\"):\n",
    "sample_image_file = os.path.join(IMAGE_DIR, common_det_seg_files_train[0][\"name\"])\n",
    "sample_mask_file = os.path.join(\n",
    "    \"./data/bdd100k/labels/sem_seg/masks/train\",\n",
    "    common_det_seg_files_train[0][\"name\"][:-4] + \".png\"\n",
    ")"
   ]
  },
  {
   "cell_type": "code",
   "execution_count": 15,
   "id": "52028342-25bb-49bd-b746-3386f52ecf64",
   "metadata": {},
   "outputs": [],
   "source": [
    "bbox_data = []\n",
    "width, height = Image.open(sample_image_file).size\n",
    "for label in common_det_seg_files_train[0][\"labels\"]:\n",
    "    if \"box2d\" in label.keys():\n",
    "        bbox_data.append({\n",
    "            \"position\": {\n",
    "                \"minX\": label[\"box2d\"][\"x1\"] / width,\n",
    "                \"maxX\": label[\"box2d\"][\"x2\"] / width,\n",
    "                \"minY\": label[\"box2d\"][\"y1\"] / height,\n",
    "                \"maxY\": label[\"box2d\"][\"y2\"] / height\n",
    "            },\n",
    "            \"class_id\" : LABEL_MAP[label[\"category\"]],\n",
    "            \"box_caption\": label[\"category\"],\n",
    "        })"
   ]
  },
  {
   "cell_type": "code",
   "execution_count": 16,
   "id": "59072a66-fbc5-4817-ad97-9a7e7d8e1ce9",
   "metadata": {},
   "outputs": [
    {
     "data": {
      "text/plain": [
       "[{'position': {'minX': 0.97987473515625,\n",
       "   'maxX': 0.99899293671875,\n",
       "   'minY': 0.34803623333333333,\n",
       "   'maxY': 0.3793051138888889},\n",
       "  'class_id': 2,\n",
       "  'box_caption': 'car'},\n",
       " {'position': {'minX': 0.9477561570312499,\n",
       "   'maxX': 0.9806394632812501,\n",
       "   'minY': 0.3398791333333333,\n",
       "   'maxY': 0.38882172777777774},\n",
       "  'class_id': 2,\n",
       "  'box_caption': 'car'},\n",
       " {'position': {'minX': 0.9095197546874999,\n",
       "   'maxX': 0.9523445257812501,\n",
       "   'minY': 0.34531719861111115,\n",
       "   'maxY': 0.41057399027777775},\n",
       "  'class_id': 2,\n",
       "  'box_caption': 'car'},\n",
       " {'position': {'minX': 0.8674597125,\n",
       "   'maxX': 0.9316968687499999,\n",
       "   'minY': 0.35211478194444445,\n",
       "   'maxY': 0.42552867361111113},\n",
       "  'class_id': 2,\n",
       "  'box_caption': 'car'},\n",
       " {'position': {'minX': 0.64033548125,\n",
       "   'maxX': 0.8101051085937501,\n",
       "   'minY': 0.3602718819444445,\n",
       "   'maxY': 0.5356495138888888},\n",
       "  'class_id': 2,\n",
       "  'box_caption': 'car'}]"
      ]
     },
     "execution_count": 16,
     "metadata": {},
     "output_type": "execute_result"
    }
   ],
   "source": [
    "bbox_data"
   ]
  },
  {
   "cell_type": "code",
   "execution_count": 18,
   "id": "766a975e-ad23-4f54-b869-3a7ac300c22c",
   "metadata": {},
   "outputs": [
    {
     "data": {
      "text/html": [
       "wandb version 0.13.2 is available!  To upgrade, please run:\n",
       " $ pip install wandb --upgrade"
      ],
      "text/plain": [
       "<IPython.core.display.HTML object>"
      ]
     },
     "metadata": {},
     "output_type": "display_data"
    },
    {
     "data": {
      "text/html": [
       "Tracking run with wandb version 0.12.11"
      ],
      "text/plain": [
       "<IPython.core.display.HTML object>"
      ]
     },
     "metadata": {},
     "output_type": "display_data"
    },
    {
     "data": {
      "text/html": [
       "Run data is saved locally in <code>/home/jupyter/wandb-av-perception/wandb/run-20220903_035626-wpcvmxib</code>"
      ],
      "text/plain": [
       "<IPython.core.display.HTML object>"
      ]
     },
     "metadata": {},
     "output_type": "display_data"
    },
    {
     "data": {
      "text/html": [
       "Syncing run <strong><a href=\"https://wandb.ai/av-demo/bdd100k/runs/wpcvmxib\" target=\"_blank\">gallant-wood-14</a></strong> to <a href=\"https://wandb.ai/av-demo/bdd100k\" target=\"_blank\">Weights & Biases</a> (<a href=\"https://wandb.me/run\" target=\"_blank\">docs</a>)<br/>"
      ],
      "text/plain": [
       "<IPython.core.display.HTML object>"
      ]
     },
     "metadata": {},
     "output_type": "display_data"
    },
    {
     "name": "stdout",
     "output_type": "stream",
     "text": [
      "\n"
     ]
    },
    {
     "data": {
      "text/html": [
       "Waiting for W&B process to finish... <strong style=\"color:green\">(success).</strong>"
      ],
      "text/plain": [
       "<IPython.core.display.HTML object>"
      ]
     },
     "metadata": {},
     "output_type": "display_data"
    },
    {
     "data": {
      "application/vnd.jupyter.widget-view+json": {
       "model_id": "",
       "version_major": 2,
       "version_minor": 0
      },
      "text/plain": [
       "VBox(children=(Label(value='0.936 MB of 0.936 MB uploaded (0.000 MB deduped)\\r'), FloatProgress(value=0.999956…"
      ]
     },
     "metadata": {},
     "output_type": "display_data"
    },
    {
     "data": {
      "text/html": [
       "Synced <strong style=\"color:#cdcd00\">gallant-wood-14</strong>: <a href=\"https://wandb.ai/av-demo/bdd100k/runs/wpcvmxib\" target=\"_blank\">https://wandb.ai/av-demo/bdd100k/runs/wpcvmxib</a><br/>Synced 5 W&B file(s), 1 media file(s), 4 artifact file(s) and 0 other file(s)"
      ],
      "text/plain": [
       "<IPython.core.display.HTML object>"
      ]
     },
     "metadata": {},
     "output_type": "display_data"
    },
    {
     "data": {
      "text/html": [
       "Find logs at: <code>./wandb/run-20220903_035626-wpcvmxib/logs</code>"
      ],
      "text/plain": [
       "<IPython.core.display.HTML object>"
      ]
     },
     "metadata": {},
     "output_type": "display_data"
    }
   ],
   "source": [
    "with wandb.init(project=\"bdd100k\", entity=\"av-demo\", job_type=\"dev\"):\n",
    "    table = wandb.Table(columns=[\"Image\"])\n",
    "    image = np.array(Image.open(sample_image_file))\n",
    "    mask = np.array(Image.open(sample_mask_file))\n",
    "    image = wandb.Image(\n",
    "        image,\n",
    "        boxes={\n",
    "            \"ground_truth\": {\n",
    "                \"box_data\": bbox_data,\n",
    "                \"class_labels\": {v: k for k, v in LABEL_MAP.items()}\n",
    "            }\n",
    "        },\n",
    "        masks={\n",
    "            \"ground_truth\": {\n",
    "                \"mask_data\": mask,\n",
    "                \"class_labels\": SEGMENTATION_LABEL_MAP\n",
    "            }\n",
    "        }\n",
    "    )\n",
    "    table.add_data(image)\n",
    "    wandb.log({\"BDD100k-Dataset\": table})"
   ]
  },
  {
   "cell_type": "markdown",
   "id": "92ade2a0-a5bc-4c3a-ba3a-8e123a34ce2c",
   "metadata": {},
   "source": [
    "## Save YOLOv5 Annotations"
   ]
  },
  {
   "cell_type": "code",
   "execution_count": 1,
   "id": "89c134f2-4b93-47e7-b40a-1bba912328bb",
   "metadata": {},
   "outputs": [
    {
     "name": "stderr",
     "output_type": "stream",
     "text": [
      "/opt/conda/lib/python3.7/site-packages/ipykernel_launcher.py:8: TqdmExperimentalWarning: Using `tqdm.autonotebook.tqdm` in notebook mode. Use `tqdm.tqdm` instead to force console mode (e.g. in jupyter console)\n",
      "  \n"
     ]
    }
   ],
   "source": [
    "import os\n",
    "import json\n",
    "import shutil\n",
    "import numpy as np\n",
    "from glob import glob\n",
    "from PIL import Image, ImageOps\n",
    "import matplotlib.pyplot as plt\n",
    "from tqdm.autonotebook import tqdm\n",
    "from sahi.utils.file import save_json\n",
    "from sahi.utils.coco import Coco, CocoCategory, CocoImage, CocoAnnotation"
   ]
  },
  {
   "cell_type": "code",
   "execution_count": 2,
   "id": "a04f569a-3b1d-4477-95c3-4a1f53f93f0e",
   "metadata": {},
   "outputs": [
    {
     "data": {
      "text/plain": [
       "69863"
      ]
     },
     "execution_count": 2,
     "metadata": {},
     "output_type": "execute_result"
    }
   ],
   "source": [
    "train_annotation_file = \"./data/bdd100k/labels/bdd100k_labels_images_train.json\"\n",
    "with open(train_annotation_file) as json_file:\n",
    "    train_annotations = json.load(json_file)\n",
    "len(train_annotations)"
   ]
  },
  {
   "cell_type": "code",
   "execution_count": 3,
   "id": "3c75c37a-4783-4b59-92f0-dd4f75e8a0bf",
   "metadata": {},
   "outputs": [
    {
     "data": {
      "application/vnd.jupyter.widget-view+json": {
       "model_id": "1a369a5775f149a9b5495f78193a127a",
       "version_major": 2,
       "version_minor": 0
      },
      "text/plain": [
       "  0%|          | 0/69863 [00:00<?, ?it/s]"
      ]
     },
     "metadata": {},
     "output_type": "display_data"
    },
    {
     "data": {
      "text/plain": [
       "2972"
      ]
     },
     "execution_count": 3,
     "metadata": {},
     "output_type": "execute_result"
    }
   ],
   "source": [
    "count = 0\n",
    "IMAGE_DIR = \"./data/bdd100k/images/10k/train/\"\n",
    "for annotation in tqdm(train_annotations):\n",
    "    image_file = annotation[\"name\"]\n",
    "    if os.path.isfile(os.path.join(IMAGE_DIR, image_file)):\n",
    "        for label in annotation[\"labels\"]:\n",
    "            if \"box2d\" in label.keys():\n",
    "                count += 1\n",
    "                break\n",
    "count"
   ]
  },
  {
   "cell_type": "code",
   "execution_count": 4,
   "id": "c7919f4d-4bfa-4c3b-80cb-5f25b279eecd",
   "metadata": {},
   "outputs": [],
   "source": [
    "def corners_to_yolo(x1, y1, x2, y2, image_w, image_h):\n",
    "    return [\n",
    "        ((x2 + x1) / (2 * image_w)),\n",
    "        ((y2 + y1) / (2 * image_h)),\n",
    "        (x2 - x1) / image_w,\n",
    "        (y2 - y1) / image_h\n",
    "    ]"
   ]
  },
  {
   "cell_type": "code",
   "execution_count": 5,
   "id": "36af5e9f-7a44-437c-88fb-4e4f5e54fba2",
   "metadata": {},
   "outputs": [],
   "source": [
    "LABEL_MAP = {\n",
    "    \"person\": 0,\n",
    "    \"rider\": 1,\n",
    "    \"car\": 2,\n",
    "    \"truck\": 3,\n",
    "    \"bus\": 4,\n",
    "    \"train\": 5,\n",
    "    \"motor\": 6,\n",
    "    \"bike\": 7,\n",
    "    \"traffic light\": 8,\n",
    "    \"traffic sign\": 9,\n",
    "}"
   ]
  },
  {
   "cell_type": "code",
   "execution_count": 6,
   "id": "1419691b-39c0-4db5-b035-52bb028e0e30",
   "metadata": {},
   "outputs": [
    {
     "data": {
      "application/vnd.jupyter.widget-view+json": {
       "model_id": "7c99a22ca17240abbca23aa5f6741bb8",
       "version_major": 2,
       "version_minor": 0
      },
      "text/plain": [
       "  0%|          | 0/69863 [00:00<?, ?it/s]"
      ]
     },
     "metadata": {},
     "output_type": "display_data"
    }
   ],
   "source": [
    "all_10k_annotated_images = []\n",
    "for annotation in tqdm(train_annotations):\n",
    "    image_file = annotation[\"name\"]\n",
    "    if os.path.isfile(os.path.join(IMAGE_DIR, image_file)):\n",
    "        all_10k_annotated_images.append(image_file)\n",
    "        width, height = Image.open(os.path.join(IMAGE_DIR, image_file)).size\n",
    "        current_labels = \"\"\n",
    "        for label in annotation[\"labels\"]:\n",
    "            if \"box2d\" in label.keys():\n",
    "                bbox = corners_to_yolo(\n",
    "                    label[\"box2d\"][\"x1\"],\n",
    "                    label[\"box2d\"][\"y1\"],\n",
    "                    label[\"box2d\"][\"x2\"],\n",
    "                    label[\"box2d\"][\"y2\"],\n",
    "                    width, height\n",
    "                )\n",
    "                category_name = label[\"category\"]\n",
    "                category_id = LABEL_MAP[category_name]\n",
    "                current_labels += \" \".join(str(i) for i in [category_id] + bbox) + \"\\n\"\n",
    "        # print(current_labels)\n",
    "        label_file_name = image_file.split(\".\")[0] + \".txt\"\n",
    "        with open(os.path.join(\"./data/bdd100k-yolov5/labels\", label_file_name), \"w\") as f:\n",
    "            f.write(current_labels)"
   ]
  },
  {
   "cell_type": "code",
   "execution_count": 7,
   "id": "9499c380-78de-4b38-b042-02c659e7bd2a",
   "metadata": {},
   "outputs": [
    {
     "data": {
      "text/plain": [
       "(2972, 2972)"
      ]
     },
     "execution_count": 7,
     "metadata": {},
     "output_type": "execute_result"
    }
   ],
   "source": [
    "all_annotations = glob(\"./data/bdd100k-yolov5/labels/*\")\n",
    "len(all_10k_annotated_images), len(all_annotations)"
   ]
  },
  {
   "cell_type": "code",
   "execution_count": 8,
   "id": "6b6773b4-698c-48d6-8f02-c4312e55cca7",
   "metadata": {},
   "outputs": [
    {
     "data": {
      "application/vnd.jupyter.widget-view+json": {
       "model_id": "49a136b0880e417e9619361efe888d04",
       "version_major": 2,
       "version_minor": 0
      },
      "text/plain": [
       "  0%|          | 0/2972 [00:00<?, ?it/s]"
      ]
     },
     "metadata": {},
     "output_type": "display_data"
    }
   ],
   "source": [
    "for filename in tqdm(all_10k_annotated_images):\n",
    "    shutil.copyfile(\n",
    "        os.path.join(IMAGE_DIR, filename),\n",
    "        os.path.join(\"./data/bdd100k-yolov5/images\", filename)\n",
    "    )"
   ]
  },
  {
   "cell_type": "code",
   "execution_count": 9,
   "id": "2e0c7eec-8bc8-4a3c-a29f-0a647c87fdba",
   "metadata": {},
   "outputs": [
    {
     "data": {
      "text/plain": [
       "(2972, 2972)"
      ]
     },
     "execution_count": 9,
     "metadata": {},
     "output_type": "execute_result"
    }
   ],
   "source": [
    "all_images = glob(\"./data/bdd100k-yolov5/images/*\")\n",
    "len(all_images), len(all_annotations)"
   ]
  },
  {
   "cell_type": "code",
   "execution_count": 10,
   "id": "ab314a36-c13d-4722-b4f6-9b5423a02d18",
   "metadata": {},
   "outputs": [],
   "source": [
    "from sklearn.model_selection import train_test_split\n",
    "\n",
    "train_images, val_images, train_labels, val_labels = train_test_split(\n",
    "    sorted(all_images), sorted(all_annotations), test_size=0.3, random_state=42\n",
    ")\n",
    "val_images, test_images, val_labels, test_labels = train_test_split(\n",
    "    sorted(val_images), sorted(val_labels), test_size=0.4, random_state=42\n",
    ")"
   ]
  },
  {
   "cell_type": "code",
   "execution_count": 11,
   "id": "24ae7fe3-93c0-4305-9427-d1ee78ae0b6f",
   "metadata": {},
   "outputs": [
    {
     "name": "stdout",
     "output_type": "stream",
     "text": [
      "2080 2080\n",
      "535 535\n",
      "357 357\n"
     ]
    }
   ],
   "source": [
    "print(len(train_images), len(train_labels))\n",
    "print(len(val_images), len(val_labels))\n",
    "print(len(test_images), len(test_labels))"
   ]
  },
  {
   "cell_type": "code",
   "execution_count": 12,
   "id": "61e6102c-5b54-489f-8165-a56f013137c4",
   "metadata": {},
   "outputs": [
    {
     "data": {
      "application/vnd.jupyter.widget-view+json": {
       "model_id": "37aaa403b56d4dc7bff02d4c0da09373",
       "version_major": 2,
       "version_minor": 0
      },
      "text/plain": [
       "  0%|          | 0/2080 [00:00<?, ?it/s]"
      ]
     },
     "metadata": {},
     "output_type": "display_data"
    },
    {
     "data": {
      "application/vnd.jupyter.widget-view+json": {
       "model_id": "ef4e6c87a65f4ce19648cc0f0ba0bbb6",
       "version_major": 2,
       "version_minor": 0
      },
      "text/plain": [
       "  0%|          | 0/2080 [00:00<?, ?it/s]"
      ]
     },
     "metadata": {},
     "output_type": "display_data"
    }
   ],
   "source": [
    "for idx in tqdm(range(len(train_images))):\n",
    "    shutil.copyfile(\n",
    "        train_images[idx],\n",
    "        os.path.join(\n",
    "            \"./data/bdd100k-yolov5/train/images\",\n",
    "            train_images[idx].split(\"/\")[-1]\n",
    "        )\n",
    "    )\n",
    "\n",
    "    \n",
    "for idx in tqdm(range(len(train_labels))):\n",
    "    shutil.copyfile(\n",
    "        train_labels[idx],\n",
    "        os.path.join(\n",
    "            \"./data/bdd100k-yolov5/train/labels\",\n",
    "            train_labels[idx].split(\"/\")[-1]\n",
    "        )\n",
    "    )"
   ]
  },
  {
   "cell_type": "code",
   "execution_count": 13,
   "id": "12ca5616-0d21-4b63-995d-824415a760b1",
   "metadata": {},
   "outputs": [
    {
     "data": {
      "application/vnd.jupyter.widget-view+json": {
       "model_id": "2f2db8ee98a147ed8c77f282ec4f2e2f",
       "version_major": 2,
       "version_minor": 0
      },
      "text/plain": [
       "  0%|          | 0/535 [00:00<?, ?it/s]"
      ]
     },
     "metadata": {},
     "output_type": "display_data"
    },
    {
     "data": {
      "application/vnd.jupyter.widget-view+json": {
       "model_id": "0ff0b624238844c5a60fa157cdb7eca0",
       "version_major": 2,
       "version_minor": 0
      },
      "text/plain": [
       "  0%|          | 0/535 [00:00<?, ?it/s]"
      ]
     },
     "metadata": {},
     "output_type": "display_data"
    }
   ],
   "source": [
    "for idx in tqdm(range(len(val_images))):\n",
    "    shutil.copyfile(\n",
    "        val_images[idx],\n",
    "        os.path.join(\n",
    "            \"./data/bdd100k-yolov5/val/images\",\n",
    "            val_images[idx].split(\"/\")[-1]\n",
    "        )\n",
    "    )\n",
    "\n",
    "    \n",
    "for idx in tqdm(range(len(val_labels))):\n",
    "    shutil.copyfile(\n",
    "        val_labels[idx],\n",
    "        os.path.join(\n",
    "            \"./data/bdd100k-yolov5/val/labels\",\n",
    "            val_labels[idx].split(\"/\")[-1]\n",
    "        )\n",
    "    )"
   ]
  },
  {
   "cell_type": "code",
   "execution_count": 14,
   "id": "0722d72e-c5fe-475e-abe5-8459b722dc7d",
   "metadata": {},
   "outputs": [
    {
     "data": {
      "application/vnd.jupyter.widget-view+json": {
       "model_id": "cdf6d7ab68ce4636a3fe2981e25b1a46",
       "version_major": 2,
       "version_minor": 0
      },
      "text/plain": [
       "  0%|          | 0/357 [00:00<?, ?it/s]"
      ]
     },
     "metadata": {},
     "output_type": "display_data"
    },
    {
     "data": {
      "application/vnd.jupyter.widget-view+json": {
       "model_id": "eb04d3f6c326492a8d6dd02f0e8e052f",
       "version_major": 2,
       "version_minor": 0
      },
      "text/plain": [
       "  0%|          | 0/357 [00:00<?, ?it/s]"
      ]
     },
     "metadata": {},
     "output_type": "display_data"
    }
   ],
   "source": [
    "for idx in tqdm(range(len(test_images))):\n",
    "    shutil.copyfile(\n",
    "        test_images[idx],\n",
    "        os.path.join(\n",
    "            \"./data/bdd100k-yolov5/test/images\",\n",
    "            test_images[idx].split(\"/\")[-1]\n",
    "        )\n",
    "    )\n",
    "\n",
    "    \n",
    "for idx in tqdm(range(len(test_labels))):\n",
    "    shutil.copyfile(\n",
    "        test_labels[idx],\n",
    "        os.path.join(\n",
    "            \"./data/bdd100k-yolov5/test/labels\",\n",
    "            test_labels[idx].split(\"/\")[-1]\n",
    "        )\n",
    "    )"
   ]
  },
  {
   "cell_type": "markdown",
   "id": "e6736f55-7387-43a1-8145-0f94a3074d47",
   "metadata": {},
   "source": [
    "## EDA on Segmentation"
   ]
  },
  {
   "cell_type": "code",
   "execution_count": 1,
   "id": "0907b8eb-4ad0-44ec-92e2-cbb29d120ab7",
   "metadata": {},
   "outputs": [
    {
     "name": "stderr",
     "output_type": "stream",
     "text": [
      "/opt/conda/lib/python3.7/site-packages/ipykernel_launcher.py:8: TqdmExperimentalWarning: Using `tqdm.autonotebook.tqdm` in notebook mode. Use `tqdm.tqdm` instead to force console mode (e.g. in jupyter console)\n",
      "  \n"
     ]
    }
   ],
   "source": [
    "import os\n",
    "import json\n",
    "import shutil\n",
    "import numpy as np\n",
    "from glob import glob\n",
    "from PIL import Image, ImageOps\n",
    "import matplotlib.pyplot as plt\n",
    "from tqdm.autonotebook import tqdm"
   ]
  },
  {
   "cell_type": "code",
   "execution_count": 4,
   "id": "f1cdb0a9-f546-4dcb-9a96-91bf45f358fa",
   "metadata": {},
   "outputs": [],
   "source": [
    "train_images_10_k = glob(\"./data/bdd100k/images/10k/train/*\")\n",
    "train_labels_10_k = glob(\"./data/bdd100k/labels/sem_seg/masks/train/*\")"
   ]
  },
  {
   "cell_type": "code",
   "execution_count": 5,
   "id": "bed511ee-2e69-485a-be73-b321e62909d8",
   "metadata": {},
   "outputs": [
    {
     "data": {
      "text/plain": [
       "(7000, 7000)"
      ]
     },
     "execution_count": 5,
     "metadata": {},
     "output_type": "execute_result"
    }
   ],
   "source": [
    "len(train_images_10_k), len(train_labels_10_k)"
   ]
  },
  {
   "cell_type": "code",
   "execution_count": 8,
   "id": "3b7bf968-203f-499d-9356-43f3a0875e83",
   "metadata": {},
   "outputs": [
    {
     "data": {
      "text/plain": [
       "1"
      ]
     },
     "execution_count": 8,
     "metadata": {},
     "output_type": "execute_result"
    }
   ],
   "source": [
    "count = 0\n",
    "for idx in range(7000):\n",
    "    if train_images_10_k[idx].split(\"/\")[-1].split(\".\")[0] == train_labels_10_k[idx].split(\"/\")[-1].split(\".\")[0]:\n",
    "        count += 1\n",
    "\n",
    "\n",
    "count"
   ]
  },
  {
   "cell_type": "code",
   "execution_count": null,
   "id": "90fd58f3-8d81-47cd-880f-7a7b00b3cd27",
   "metadata": {},
   "outputs": [],
   "source": []
  }
 ],
 "metadata": {
  "environment": {
   "kernel": "conda-root-py",
   "name": "pytorch-gpu.1-11.m91",
   "type": "gcloud",
   "uri": "gcr.io/deeplearning-platform-release/pytorch-gpu.1-11:m91"
  },
  "kernelspec": {
   "display_name": "Python [conda env:root] *",
   "language": "python",
   "name": "conda-root-py"
  },
  "language_info": {
   "codemirror_mode": {
    "name": "ipython",
    "version": 3
   },
   "file_extension": ".py",
   "mimetype": "text/x-python",
   "name": "python",
   "nbconvert_exporter": "python",
   "pygments_lexer": "ipython3",
   "version": "3.7.12"
  }
 },
 "nbformat": 4,
 "nbformat_minor": 5
}
