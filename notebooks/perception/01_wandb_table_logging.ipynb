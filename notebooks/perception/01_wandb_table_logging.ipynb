{
 "cells": [
  {
   "cell_type": "code",
   "execution_count": 1,
   "id": "2c51026e-0e7a-40da-857e-7cb8d3bc02bc",
   "metadata": {},
   "outputs": [
    {
     "name": "stderr",
     "output_type": "stream",
     "text": [
      "/opt/conda/lib/python3.7/site-packages/ipykernel_launcher.py:9: TqdmExperimentalWarning: Using `tqdm.autonotebook.tqdm` in notebook mode. Use `tqdm.tqdm` instead to force console mode (e.g. in jupyter console)\n",
      "  if __name__ == '__main__':\n"
     ]
    }
   ],
   "source": [
    "import os\n",
    "import json\n",
    "import wandb\n",
    "import collections\n",
    "import numpy as np\n",
    "from glob import glob\n",
    "from PIL import Image, ImageOps\n",
    "import matplotlib.pyplot as plt\n",
    "from tqdm.autonotebook import tqdm"
   ]
  },
  {
   "cell_type": "code",
   "execution_count": 2,
   "id": "59d5b805-3a0b-45f8-9a2d-97d44bf87518",
   "metadata": {},
   "outputs": [],
   "source": [
    "LABEL_MAP = {\n",
    "    \"person\": 11,\n",
    "    \"rider\": 12,\n",
    "    \"car\": 13,\n",
    "    \"truck\": 14,\n",
    "    \"bus\": 15,\n",
    "    \"train\": 16,\n",
    "    \"motor\": 17,\n",
    "    \"bike\": 18,\n",
    "    \"traffic light\": 6,\n",
    "    \"traffic sign\": 7,\n",
    "}\n",
    "\n",
    "SEGMENTATION_LABEL_MAP = {\n",
    "    0:  \"road\",\n",
    "    1:  \"sidewalk\",\n",
    "    2:  \"building\",\n",
    "    3:  \"wall\",\n",
    "    4:  \"fence\",\n",
    "    5:  \"pole\",\n",
    "    6:  \"traffic light\",\n",
    "    7:  \"traffic sign\",\n",
    "    8:  \"vegetation\",\n",
    "    9:  \"terrain\",\n",
    "    10: \"sky\",\n",
    "    11: \"person\",\n",
    "    12: \"rider\",\n",
    "    13: \"car\",\n",
    "    14: \"truck\",\n",
    "    15: \"bus\",\n",
    "    16: \"train\",\n",
    "    17: \"motor\",\n",
    "    18: \"bike\",\n",
    "    255: \"unknown\"\n",
    "}\n",
    "\n",
    "IMAGE_DIR = \"./data/bdd100k/images/100k/train\"\n",
    "SEGMENTATION_DIR = \"./data/bdd100k/labels/sem_seg/masks\""
   ]
  },
  {
   "cell_type": "code",
   "execution_count": 3,
   "id": "bc01fea1-45a7-456d-b588-a81a284d3c3a",
   "metadata": {},
   "outputs": [],
   "source": [
    "train_annotation_file = \"./data/bdd100k/labels/bdd100k_labels_images_train.json\"\n",
    "with open(train_annotation_file) as json_file:\n",
    "    train_annotations = json.load(json_file)"
   ]
  },
  {
   "cell_type": "code",
   "execution_count": 4,
   "id": "62ae0f50-0040-4711-b205-87af7bf5cf76",
   "metadata": {},
   "outputs": [
    {
     "data": {
      "text/plain": [
       "(7000, 1000)"
      ]
     },
     "execution_count": 4,
     "metadata": {},
     "output_type": "execute_result"
    }
   ],
   "source": [
    "train_segmentation_labels = glob(os.path.join(SEGMENTATION_DIR, \"train\", \"*\"))\n",
    "val_segmentation_labels = glob(os.path.join(SEGMENTATION_DIR, \"val\", \"*\"))\n",
    "len(train_segmentation_labels), len(val_segmentation_labels)"
   ]
  },
  {
   "cell_type": "code",
   "execution_count": 5,
   "id": "30213497-bb5b-4f02-b877-60ae9d09ba0e",
   "metadata": {},
   "outputs": [
    {
     "data": {
      "application/vnd.jupyter.widget-view+json": {
       "model_id": "149dcdcc7d51411e81aaf006c15989c2",
       "version_major": 2,
       "version_minor": 0
      },
      "text/plain": [
       "  0%|          | 0/69863 [00:00<?, ?it/s]"
      ]
     },
     "metadata": {},
     "output_type": "display_data"
    },
    {
     "data": {
      "text/plain": [
       "(2972, 66891)"
      ]
     },
     "execution_count": 5,
     "metadata": {},
     "output_type": "execute_result"
    }
   ],
   "source": [
    "common_det_seg_files_train, uncommon_det_seg_files_train = [], []\n",
    "for annotation in tqdm(train_annotations):\n",
    "    image_file = annotation[\"name\"]\n",
    "    if os.path.isfile(\n",
    "        os.path.join(SEGMENTATION_DIR, \"train\", image_file[:-4] + \".png\")\n",
    "    ):\n",
    "        common_det_seg_files_train.append(annotation)\n",
    "    else:\n",
    "        uncommon_det_seg_files_train.append(annotation)\n",
    "\n",
    "\n",
    "len(common_det_seg_files_train), len(uncommon_det_seg_files_train)"
   ]
  },
  {
   "cell_type": "code",
   "execution_count": 6,
   "id": "97e2f764-59dc-49f1-b580-56e7fee57a56",
   "metadata": {},
   "outputs": [],
   "source": [
    "columns = [\n",
    "    \"File-ID\",\n",
    "    \"Image-Bbox\",\n",
    "    \"Num-Annotated-Objects\",\n",
    "    \"Weather\",\n",
    "    \"Scene\",\n",
    "    \"Time-of-Day\",\n",
    "    \"Has-Seg-Mask\"\n",
    "]\n",
    "columns += [SEGMENTATION_LABEL_MAP[i] for i in range(19)] + [\"unknown\"]\n",
    "\n",
    "\n",
    "object_sum = {\n",
    "    \"person\": 0,\n",
    "    \"rider\": 0,\n",
    "    \"car\": 0,\n",
    "    \"truck\": 0,\n",
    "    \"bus\": 0,\n",
    "    \"train\": 0,\n",
    "    \"motor\": 0,\n",
    "    \"bike\": 0,\n",
    "    \"traffic light\": 0,\n",
    "    \"traffic sign\": 0,\n",
    "}\n",
    "\n",
    "segmentation_pixel_sum = {}\n",
    "for i in range(19):\n",
    "    segmentation_pixel_sum[i] = 0\n",
    "segmentation_pixel_sum[255] = 0"
   ]
  },
  {
   "cell_type": "code",
   "execution_count": 7,
   "id": "7589137a-185d-4b61-bc3d-1391ab344abe",
   "metadata": {},
   "outputs": [
    {
     "name": "stderr",
     "output_type": "stream",
     "text": [
      "\u001b[34m\u001b[1mwandb\u001b[0m: Currently logged in as: \u001b[33mgeekyrakshit\u001b[0m (use `wandb login --relogin` to force relogin)\n"
     ]
    },
    {
     "data": {
      "text/html": [
       "wandb version 0.13.2 is available!  To upgrade, please run:\n",
       " $ pip install wandb --upgrade"
      ],
      "text/plain": [
       "<IPython.core.display.HTML object>"
      ]
     },
     "metadata": {},
     "output_type": "display_data"
    },
    {
     "data": {
      "text/html": [
       "Tracking run with wandb version 0.12.11"
      ],
      "text/plain": [
       "<IPython.core.display.HTML object>"
      ]
     },
     "metadata": {},
     "output_type": "display_data"
    },
    {
     "data": {
      "text/html": [
       "Run data is saved locally in <code>/home/jupyter/wandb-av-perception/wandb/run-20220903_052842-2u30w0jw</code>"
      ],
      "text/plain": [
       "<IPython.core.display.HTML object>"
      ]
     },
     "metadata": {},
     "output_type": "display_data"
    },
    {
     "data": {
      "text/html": [
       "Syncing run <strong><a href=\"https://wandb.ai/av-demo/bdd100k/runs/2u30w0jw\" target=\"_blank\">eternal-fire-29</a></strong> to <a href=\"https://wandb.ai/av-demo/bdd100k\" target=\"_blank\">Weights & Biases</a> (<a href=\"https://wandb.me/run\" target=\"_blank\">docs</a>)<br/>"
      ],
      "text/plain": [
       "<IPython.core.display.HTML object>"
      ]
     },
     "metadata": {},
     "output_type": "display_data"
    },
    {
     "data": {
      "application/vnd.jupyter.widget-view+json": {
       "model_id": "157b0804d6c4454c9b749b60f6df0461",
       "version_major": 2,
       "version_minor": 0
      },
      "text/plain": [
       "  0%|          | 0/2972 [00:00<?, ?it/s]"
      ]
     },
     "metadata": {},
     "output_type": "display_data"
    },
    {
     "name": "stdout",
     "output_type": "stream",
     "text": [
      "\n"
     ]
    },
    {
     "data": {
      "text/html": [
       "Waiting for W&B process to finish... <strong style=\"color:green\">(success).</strong>"
      ],
      "text/plain": [
       "<IPython.core.display.HTML object>"
      ]
     },
     "metadata": {},
     "output_type": "display_data"
    },
    {
     "data": {
      "application/vnd.jupyter.widget-view+json": {
       "model_id": "",
       "version_major": 2,
       "version_minor": 0
      },
      "text/plain": [
       "VBox(children=(Label(value='1939.805 MB of 1939.805 MB uploaded (0.000 MB deduped)\\r'), FloatProgress(value=0.…"
      ]
     },
     "metadata": {},
     "output_type": "display_data"
    },
    {
     "data": {
      "text/html": [
       "Synced <strong style=\"color:#cdcd00\">eternal-fire-29</strong>: <a href=\"https://wandb.ai/av-demo/bdd100k/runs/2u30w0jw\" target=\"_blank\">https://wandb.ai/av-demo/bdd100k/runs/2u30w0jw</a><br/>Synced 5 W&B file(s), 3 media file(s), 5948 artifact file(s) and 0 other file(s)"
      ],
      "text/plain": [
       "<IPython.core.display.HTML object>"
      ]
     },
     "metadata": {},
     "output_type": "display_data"
    },
    {
     "data": {
      "text/html": [
       "Find logs at: <code>./wandb/run-20220903_052842-2u30w0jw/logs</code>"
      ],
      "text/plain": [
       "<IPython.core.display.HTML object>"
      ]
     },
     "metadata": {},
     "output_type": "display_data"
    }
   ],
   "source": [
    "with wandb.init(project=\"bdd100k\", entity=\"av-demo\", job_type=\"visualize-dataset\"):\n",
    "    table = wandb.Table(columns=columns)\n",
    "    for idx in tqdm(range(len(common_det_seg_files_train))):\n",
    "        sample_image_file = os.path.join(IMAGE_DIR, common_det_seg_files_train[idx][\"name\"])\n",
    "        sample_mask_file = os.path.join(\n",
    "            \"./data/bdd100k/labels/sem_seg/masks/train\",\n",
    "            common_det_seg_files_train[idx][\"name\"][:-4] + \".png\"\n",
    "        )\n",
    "        bbox_data = []\n",
    "        width, height = Image.open(sample_image_file).size\n",
    "        for label in common_det_seg_files_train[idx][\"labels\"]:\n",
    "            if \"box2d\" in label.keys():\n",
    "                bbox_data.append({\n",
    "                    \"position\": {\n",
    "                        \"minX\": label[\"box2d\"][\"x1\"] / width,\n",
    "                        \"maxX\": label[\"box2d\"][\"x2\"] / width,\n",
    "                        \"minY\": label[\"box2d\"][\"y1\"] / height,\n",
    "                        \"maxY\": label[\"box2d\"][\"y2\"] / height\n",
    "                    },\n",
    "                    \"class_id\" : LABEL_MAP[label[\"category\"]],\n",
    "                    \"box_caption\": label[\"category\"],\n",
    "                })\n",
    "                object_sum[label[\"category\"]] += 1\n",
    "        image = np.array(Image.open(sample_image_file))\n",
    "        mask = np.array(Image.open(sample_mask_file))\n",
    "        frequency_dict = dict(collections.Counter(list(mask.flatten())))\n",
    "        frequency_list = []\n",
    "        for i in range(19):\n",
    "            frequency_list.append(0 if i not in frequency_dict.keys() else frequency_dict[i])\n",
    "            segmentation_pixel_sum[i] += 0 if i not in frequency_dict.keys() else frequency_dict[i]\n",
    "        frequency_list.append(0 if 255 not in frequency_dict.keys() else frequency_dict[255])\n",
    "        segmentation_pixel_sum[255] += 0 if i not in frequency_dict.keys() else frequency_dict[i]\n",
    "        image = wandb.Image(\n",
    "            image,\n",
    "            boxes={\n",
    "                \"ground_truth\": {\n",
    "                    \"box_data\": bbox_data,\n",
    "                    \"class_labels\": {v: k for k, v in LABEL_MAP.items()}\n",
    "                }\n",
    "            },\n",
    "            masks={\n",
    "                \"ground_truth\": {\n",
    "                    \"mask_data\": mask,\n",
    "                    \"class_labels\": SEGMENTATION_LABEL_MAP\n",
    "                }\n",
    "            }\n",
    "        )\n",
    "        table.add_data(\n",
    "            common_det_seg_files_train[idx][\"name\"][:-4],\n",
    "            image,\n",
    "            len(bbox_data),\n",
    "            common_det_seg_files_train[idx][\"attributes\"][\"weather\"],\n",
    "            common_det_seg_files_train[idx][\"attributes\"][\"scene\"],\n",
    "            common_det_seg_files_train[idx][\"attributes\"][\"timeofday\"],\n",
    "            True,\n",
    "            *frequency_list\n",
    "        )\n",
    "    \n",
    "    wandb.log({\"BDD100k-Dataset\": table})\n",
    "    \n",
    "    data = [[label, val] for (label, val) in object_sum.items()]\n",
    "    table = wandb.Table(data=data, columns = [\"Detection-Classes\", \"Frequencies\"])\n",
    "    wandb.log({\n",
    "        \"Detection-Class Frequencies\" : wandb.plot.bar(\n",
    "            table, \"Detection-Classes\", \"Frequencies\", title=\"Detection-Class Frequencies\"\n",
    "        )\n",
    "    })\n",
    "    \n",
    "    data = [[SEGMENTATION_LABEL_MAP[label], val] for (label, val) in segmentation_pixel_sum.items()]\n",
    "    table = wandb.Table(data=data, columns = [\"Segmentation-Classes\", \"Pixel-Counts\"])\n",
    "    wandb.log({\n",
    "        \"Segmentation-Class Frequencies\" : wandb.plot.bar(\n",
    "            table, \"Segmentation-Classes\", \"Pixel-Counts\", title=\"Segmentation-Class Frequencies\"\n",
    "        )\n",
    "    })"
   ]
  },
  {
   "cell_type": "code",
   "execution_count": null,
   "id": "41715146-fc73-449e-931f-3c7ad9a80965",
   "metadata": {},
   "outputs": [],
   "source": []
  }
 ],
 "metadata": {
  "environment": {
   "kernel": "conda-root-py",
   "name": "pytorch-gpu.1-11.m91",
   "type": "gcloud",
   "uri": "gcr.io/deeplearning-platform-release/pytorch-gpu.1-11:m91"
  },
  "kernelspec": {
   "display_name": "Python [conda env:root] *",
   "language": "python",
   "name": "conda-root-py"
  },
  "language_info": {
   "codemirror_mode": {
    "name": "ipython",
    "version": 3
   },
   "file_extension": ".py",
   "mimetype": "text/x-python",
   "name": "python",
   "nbconvert_exporter": "python",
   "pygments_lexer": "ipython3",
   "version": "3.7.12"
  }
 },
 "nbformat": 4,
 "nbformat_minor": 5
}
