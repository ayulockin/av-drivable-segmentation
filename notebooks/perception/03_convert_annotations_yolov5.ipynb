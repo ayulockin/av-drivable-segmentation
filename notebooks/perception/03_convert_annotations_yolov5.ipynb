{
 "cells": [
  {
   "cell_type": "code",
   "execution_count": 1,
   "metadata": {},
   "outputs": [],
   "source": [
    "import os\n",
    "import json\n",
    "import wandb\n",
    "import shutil\n",
    "import numpy as np\n",
    "from glob import glob\n",
    "from tqdm import tqdm\n",
    "from PIL import Image, ImageOps\n",
    "import matplotlib.pyplot as plt\n",
    "from sklearn.model_selection import train_test_split\n",
    "\n",
    "from sahi.utils.file import save_json\n",
    "from sahi.utils.coco import (\n",
    "    Coco, CocoCategory, CocoImage, CocoAnnotation\n",
    ")"
   ]
  },
  {
   "cell_type": "code",
   "execution_count": 2,
   "metadata": {},
   "outputs": [
    {
     "data": {
      "text/plain": [
       "69863"
      ]
     },
     "execution_count": 2,
     "metadata": {},
     "output_type": "execute_result"
    }
   ],
   "source": [
    "train_annotation_file = \"./artifacts/bdd100k-dataset:v0/labels/bdd100k_labels_images_train.json\"\n",
    "with open(train_annotation_file) as json_file:\n",
    "    train_annotations = json.load(json_file)\n",
    "len(train_annotations)"
   ]
  },
  {
   "cell_type": "code",
   "execution_count": 3,
   "metadata": {},
   "outputs": [
    {
     "name": "stderr",
     "output_type": "stream",
     "text": [
      "100%|██████████| 69863/69863 [00:00<00:00, 218815.90it/s]\n"
     ]
    },
    {
     "data": {
      "text/plain": [
       "2972"
      ]
     },
     "execution_count": 3,
     "metadata": {},
     "output_type": "execute_result"
    }
   ],
   "source": [
    "count = 0\n",
    "IMAGE_DIR = \"./artifacts/bdd100k-dataset:v0/images/10k/train/\"\n",
    "for annotation in tqdm(train_annotations):\n",
    "    image_file = annotation[\"name\"]\n",
    "    if os.path.isfile(os.path.join(IMAGE_DIR, image_file)):\n",
    "        for label in annotation[\"labels\"]:\n",
    "            if \"box2d\" in label.keys():\n",
    "                count += 1\n",
    "                break\n",
    "count"
   ]
  },
  {
   "cell_type": "code",
   "execution_count": 4,
   "metadata": {},
   "outputs": [],
   "source": [
    "def corners_to_yolo(x1, y1, x2, y2, image_w, image_h):\n",
    "    return [\n",
    "        ((x2 + x1) / (2 * image_w)),\n",
    "        ((y2 + y1) / (2 * image_h)),\n",
    "        (x2 - x1) / image_w,\n",
    "        (y2 - y1) / image_h\n",
    "    ]"
   ]
  },
  {
   "cell_type": "code",
   "execution_count": 5,
   "metadata": {},
   "outputs": [],
   "source": [
    "LABEL_MAP = {\n",
    "    \"person\": 0,\n",
    "    \"rider\": 1,\n",
    "    \"car\": 2,\n",
    "    \"truck\": 3,\n",
    "    \"bus\": 4,\n",
    "    \"train\": 5,\n",
    "    \"motor\": 6,\n",
    "    \"bike\": 7,\n",
    "    \"traffic light\": 8,\n",
    "    \"traffic sign\": 9,\n",
    "}"
   ]
  },
  {
   "cell_type": "code",
   "execution_count": 6,
   "metadata": {},
   "outputs": [
    {
     "name": "stderr",
     "output_type": "stream",
     "text": [
      "100%|██████████| 69863/69863 [00:01<00:00, 60542.24it/s]\n"
     ]
    }
   ],
   "source": [
    "all_10k_annotated_images = []\n",
    "for annotation in tqdm(train_annotations):\n",
    "    image_file = annotation[\"name\"]\n",
    "    if os.path.isfile(os.path.join(IMAGE_DIR, image_file)):\n",
    "        all_10k_annotated_images.append(image_file)\n",
    "        width, height = Image.open(os.path.join(IMAGE_DIR, image_file)).size\n",
    "        current_labels = \"\"\n",
    "        for label in annotation[\"labels\"]:\n",
    "            if \"box2d\" in label.keys():\n",
    "                bbox = corners_to_yolo(\n",
    "                    label[\"box2d\"][\"x1\"],\n",
    "                    label[\"box2d\"][\"y1\"],\n",
    "                    label[\"box2d\"][\"x2\"],\n",
    "                    label[\"box2d\"][\"y2\"],\n",
    "                    width, height\n",
    "                )\n",
    "                category_name = label[\"category\"]\n",
    "                category_id = LABEL_MAP[category_name]\n",
    "                current_labels += \" \".join(str(i) for i in [category_id] + bbox) + \"\\n\"\n",
    "        # print(current_labels)\n",
    "        label_file_name = image_file.split(\".\")[0] + \".txt\"\n",
    "        with open(os.path.join(\n",
    "            \"./artifacts/bdd100k-dataset:v0/bdd100k-yolov5/labels\", label_file_name), \"w\") as f:\n",
    "            f.write(current_labels)"
   ]
  },
  {
   "cell_type": "code",
   "execution_count": 7,
   "metadata": {},
   "outputs": [
    {
     "data": {
      "text/plain": [
       "(2972, 2972)"
      ]
     },
     "execution_count": 7,
     "metadata": {},
     "output_type": "execute_result"
    }
   ],
   "source": [
    "all_annotations = glob(\"./artifacts/bdd100k-dataset:v0/bdd100k-yolov5/labels/*\")\n",
    "len(all_10k_annotated_images), len(all_annotations)"
   ]
  },
  {
   "cell_type": "code",
   "execution_count": 8,
   "metadata": {},
   "outputs": [
    {
     "name": "stderr",
     "output_type": "stream",
     "text": [
      "100%|██████████| 2972/2972 [00:00<00:00, 6472.50it/s]\n"
     ]
    }
   ],
   "source": [
    "for filename in tqdm(all_10k_annotated_images):\n",
    "    shutil.copyfile(\n",
    "        os.path.join(IMAGE_DIR, filename),\n",
    "        os.path.join(\"./artifacts/bdd100k-dataset:v0/bdd100k-yolov5/images\", filename)\n",
    "    )"
   ]
  },
  {
   "cell_type": "code",
   "execution_count": 9,
   "metadata": {},
   "outputs": [
    {
     "data": {
      "text/plain": [
       "(2972, 2972)"
      ]
     },
     "execution_count": 9,
     "metadata": {},
     "output_type": "execute_result"
    }
   ],
   "source": [
    "all_images = glob(\"./artifacts/bdd100k-dataset:v0/bdd100k-yolov5/images/*\")\n",
    "len(all_images), len(all_annotations)"
   ]
  },
  {
   "cell_type": "code",
   "execution_count": 10,
   "metadata": {},
   "outputs": [],
   "source": [
    "train_images, val_images, train_labels, val_labels = train_test_split(\n",
    "    sorted(all_images), sorted(all_annotations), test_size=0.3, random_state=42\n",
    ")\n",
    "val_images, test_images, val_labels, test_labels = train_test_split(\n",
    "    sorted(val_images), sorted(val_labels), test_size=0.4, random_state=42\n",
    ")"
   ]
  },
  {
   "cell_type": "code",
   "execution_count": 11,
   "metadata": {},
   "outputs": [
    {
     "name": "stdout",
     "output_type": "stream",
     "text": [
      "2080 2080\n",
      "535 535\n",
      "357 357\n"
     ]
    }
   ],
   "source": [
    "print(len(train_images), len(train_labels))\n",
    "print(len(val_images), len(val_labels))\n",
    "print(len(test_images), len(test_labels))"
   ]
  },
  {
   "cell_type": "code",
   "execution_count": 12,
   "metadata": {},
   "outputs": [
    {
     "name": "stderr",
     "output_type": "stream",
     "text": [
      "100%|██████████| 2080/2080 [00:00<00:00, 6539.70it/s]\n",
      "100%|██████████| 2080/2080 [00:00<00:00, 11975.16it/s]\n"
     ]
    }
   ],
   "source": [
    "for idx in tqdm(range(len(train_images))):\n",
    "    shutil.copyfile(\n",
    "        train_images[idx],\n",
    "        os.path.join(\n",
    "            \"./artifacts/bdd100k-dataset:v0/bdd100k-yolov5/train/images\",\n",
    "            train_images[idx].split(\"/\")[-1]\n",
    "        )\n",
    "    )\n",
    "\n",
    "    \n",
    "for idx in tqdm(range(len(train_labels))):\n",
    "    shutil.copyfile(\n",
    "        train_labels[idx],\n",
    "        os.path.join(\n",
    "            \"./artifacts/bdd100k-dataset:v0/bdd100k-yolov5/train/labels\",\n",
    "            train_labels[idx].split(\"/\")[-1]\n",
    "        )\n",
    "    )"
   ]
  },
  {
   "cell_type": "code",
   "execution_count": 13,
   "metadata": {},
   "outputs": [
    {
     "name": "stderr",
     "output_type": "stream",
     "text": [
      "100%|██████████| 535/535 [00:00<00:00, 6115.08it/s]\n",
      "100%|██████████| 535/535 [00:00<00:00, 11937.06it/s]\n"
     ]
    }
   ],
   "source": [
    "for idx in tqdm(range(len(val_images))):\n",
    "    shutil.copyfile(\n",
    "        val_images[idx],\n",
    "        os.path.join(\n",
    "            \"./artifacts/bdd100k-dataset:v0/bdd100k-yolov5/val/images\",\n",
    "            val_images[idx].split(\"/\")[-1]\n",
    "        )\n",
    "    )\n",
    "\n",
    "    \n",
    "for idx in tqdm(range(len(val_labels))):\n",
    "    shutil.copyfile(\n",
    "        val_labels[idx],\n",
    "        os.path.join(\n",
    "            \"./artifacts/bdd100k-dataset:v0/bdd100k-yolov5/val/labels\",\n",
    "            val_labels[idx].split(\"/\")[-1]\n",
    "        )\n",
    "    )"
   ]
  },
  {
   "cell_type": "code",
   "execution_count": 14,
   "metadata": {},
   "outputs": [
    {
     "name": "stderr",
     "output_type": "stream",
     "text": [
      "100%|██████████| 357/357 [00:00<00:00, 5992.17it/s]\n",
      "100%|██████████| 357/357 [00:00<00:00, 11999.28it/s]\n"
     ]
    }
   ],
   "source": [
    "for idx in tqdm(range(len(test_images))):\n",
    "    shutil.copyfile(\n",
    "        test_images[idx],\n",
    "        os.path.join(\n",
    "            \"./artifacts/bdd100k-dataset:v0/bdd100k-yolov5/test/images\",\n",
    "            test_images[idx].split(\"/\")[-1]\n",
    "        )\n",
    "    )\n",
    "\n",
    "    \n",
    "for idx in tqdm(range(len(test_labels))):\n",
    "    shutil.copyfile(\n",
    "        test_labels[idx],\n",
    "        os.path.join(\n",
    "            \"./artifacts/bdd100k-dataset:v0/bdd100k-yolov5/test/labels\",\n",
    "            test_labels[idx].split(\"/\")[-1]\n",
    "        )\n",
    "    )"
   ]
  },
  {
   "cell_type": "code",
   "execution_count": null,
   "metadata": {},
   "outputs": [],
   "source": []
  }
 ],
 "metadata": {
  "kernelspec": {
   "display_name": "Python 3.10.6 ('pytorch')",
   "language": "python",
   "name": "python3"
  },
  "language_info": {
   "codemirror_mode": {
    "name": "ipython",
    "version": 3
   },
   "file_extension": ".py",
   "mimetype": "text/x-python",
   "name": "python",
   "nbconvert_exporter": "python",
   "pygments_lexer": "ipython3",
   "version": "3.10.6"
  },
  "orig_nbformat": 4,
  "vscode": {
   "interpreter": {
    "hash": "396318d800431a62a637bc641fd33acfad9fe1d45d559b3baaace9cdbe46707d"
   }
  }
 },
 "nbformat": 4,
 "nbformat_minor": 2
}
