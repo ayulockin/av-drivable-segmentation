{
 "cells": [
  {
   "cell_type": "code",
   "execution_count": 1,
   "id": "01bc89de",
   "metadata": {},
   "outputs": [],
   "source": [
    "import os\n",
    "import wandb\n",
    "import numpy as np"
   ]
  },
  {
   "cell_type": "code",
   "execution_count": 3,
   "id": "fbcacb79",
   "metadata": {},
   "outputs": [
    {
     "data": {
      "text/plain": [
       "(True, True)"
      ]
     },
     "execution_count": 3,
     "metadata": {},
     "output_type": "execute_result"
    }
   ],
   "source": [
    "IMGS_PATH = \"../../bdd100k/images/10k\"\n",
    "LABELS_PATH = \"../../bdd100k/labels/drivable/masks\"\n",
    "os.path.isdir(IMGS_PATH), os.path.isdir(LABELS_PATH)"
   ]
  },
  {
   "cell_type": "code",
   "execution_count": 5,
   "id": "cd629010",
   "metadata": {},
   "outputs": [],
   "source": [
    "def upload_dataset(data_type: str):\n",
    "    # Initialize a W&B Artifact\n",
    "    data_artifact = wandb.Artifact(name=data_type, type=\"dataset\")\n",
    "    # Add image dir to it\n",
    "    data_artifact.add_dir(f\"{IMGS_PATH}/{data_type}\")\n",
    "    # Add mask dir to it\n",
    "    if data_type != \"test\":\n",
    "        data_artifact.add_dir(f\"{LABELS_PATH}/{data_type}\")\n",
    "    # Log the artifact to W&B\n",
    "    wandb.log_artifact(data_artifact)"
   ]
  },
  {
   "cell_type": "code",
   "execution_count": 8,
   "id": "5c5a4fb3",
   "metadata": {},
   "outputs": [],
   "source": [
    "# Initialize a W&B run\n",
    "run = wandb.init(\n",
    "    entity=\"av-team\",\n",
    "    project=\"drivable-segmentation\",\n",
    "    job_type=\"upload-data\",\n",
    ")\n",
    "\n",
    "# Upload train data as artifact\n",
    "upload_dataset('train')\n",
    "\n",
    "# Finish the W&B process\n",
    "wandb.finish()"
   ]
  },
  {
   "cell_type": "code",
   "execution_count": null,
   "id": "68c80c12",
   "metadata": {},
   "outputs": [],
   "source": [
    "# Initialize a W&B run\n",
    "run = wandb.init(\n",
    "    entity=\"av-team\",\n",
    "    project=\"drivable-segmentation\",\n",
    "    job_type=\"upload-data\",\n",
    ")\n",
    "\n",
    "# Upload val data as artifact\n",
    "upload_dataset('val')\n",
    "\n",
    "# Finish the W&B process\n",
    "wandb.finish()"
   ]
  },
  {
   "cell_type": "code",
   "execution_count": null,
   "id": "2ace09e3",
   "metadata": {},
   "outputs": [],
   "source": [
    "# Initialize a W&B run\n",
    "run = wandb.init(\n",
    "    entity=\"av-team\",\n",
    "    project=\"drivable-segmentation\",\n",
    "    job_type=\"upload-data\",\n",
    ")\n",
    "\n",
    "# Upload train data as artifact\n",
    "upload_dataset('test')\n",
    "\n",
    "# Finish the W&B process\n",
    "wandb.finish()"
   ]
  },
  {
   "cell_type": "code",
   "execution_count": null,
   "id": "1648d64c",
   "metadata": {},
   "outputs": [],
   "source": []
  }
 ],
 "metadata": {
  "kernelspec": {
   "display_name": "Python 3 (ipykernel)",
   "language": "python",
   "name": "python3"
  },
  "language_info": {
   "codemirror_mode": {
    "name": "ipython",
    "version": 3
   },
   "file_extension": ".py",
   "mimetype": "text/x-python",
   "name": "python",
   "nbconvert_exporter": "python",
   "pygments_lexer": "ipython3",
   "version": "3.9.12"
  }
 },
 "nbformat": 4,
 "nbformat_minor": 5
}
