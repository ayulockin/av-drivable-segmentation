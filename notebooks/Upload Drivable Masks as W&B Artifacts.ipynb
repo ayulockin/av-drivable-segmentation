{
 "cells": [
  {
   "cell_type": "code",
   "execution_count": 1,
   "id": "d93223d6",
   "metadata": {},
   "outputs": [],
   "source": [
    "import os\n",
    "import wandb"
   ]
  },
  {
   "cell_type": "code",
   "execution_count": 2,
   "id": "5f2e9c15",
   "metadata": {},
   "outputs": [
    {
     "data": {
      "text/plain": [
       "True"
      ]
     },
     "execution_count": 2,
     "metadata": {},
     "output_type": "execute_result"
    }
   ],
   "source": [
    "LABELS_PATH = \"../../bdd100k/labels/drivable/masks\"\n",
    "os.path.isdir(LABELS_PATH)"
   ]
  },
  {
   "cell_type": "code",
   "execution_count": 4,
   "id": "387555ab",
   "metadata": {},
   "outputs": [],
   "source": [
    "def upload_dataset(data_type: str):\n",
    "    # Initialize a W&B Artifact\n",
    "    data_artifact = wandb.Artifact(name=f\"{data_type}_masks\", type=\"masks\")\n",
    "    # Add mask dir to it\n",
    "    data_artifact.add_dir(f\"{LABELS_PATH}/{data_type}\")\n",
    "    # Log the artifact to W&B\n",
    "    wandb.log_artifact(data_artifact)"
   ]
  },
  {
   "cell_type": "code",
   "execution_count": 5,
   "id": "b6718c63",
   "metadata": {},
   "outputs": [
    {
     "name": "stderr",
     "output_type": "stream",
     "text": [
      "\u001b[34m\u001b[1mwandb\u001b[0m: Currently logged in as: \u001b[33mayut\u001b[0m (\u001b[33mav-team\u001b[0m). Use \u001b[1m`wandb login --relogin`\u001b[0m to force relogin\n"
     ]
    },
    {
     "data": {
      "text/html": [
       "Tracking run with wandb version 0.13.2"
      ],
      "text/plain": [
       "<IPython.core.display.HTML object>"
      ]
     },
     "metadata": {},
     "output_type": "display_data"
    },
    {
     "data": {
      "text/html": [
       "Run data is saved locally in <code>/Users/ayushthakur/integrations/bdk10k/av-drivable-segmentation/notebooks/wandb/run-20220905_223942-pkijxwn1</code>"
      ],
      "text/plain": [
       "<IPython.core.display.HTML object>"
      ]
     },
     "metadata": {},
     "output_type": "display_data"
    },
    {
     "data": {
      "text/html": [
       "Syncing run <strong><a href=\"https://wandb.ai/av-team/drivable-segmentation/runs/pkijxwn1\" target=\"_blank\">true-hill-14</a></strong> to <a href=\"https://wandb.ai/av-team/drivable-segmentation\" target=\"_blank\">Weights & Biases</a> (<a href=\"https://wandb.me/run\" target=\"_blank\">docs</a>)<br/>"
      ],
      "text/plain": [
       "<IPython.core.display.HTML object>"
      ]
     },
     "metadata": {},
     "output_type": "display_data"
    },
    {
     "name": "stderr",
     "output_type": "stream",
     "text": [
      "\u001b[34m\u001b[1mwandb\u001b[0m: Adding directory to artifact (./../../bdd100k/labels/drivable/masks/train)... Done. 10.5s\n"
     ]
    },
    {
     "data": {
      "text/html": [
       "Waiting for W&B process to finish... <strong style=\"color:green\">(success).</strong>"
      ],
      "text/plain": [
       "<IPython.core.display.HTML object>"
      ]
     },
     "metadata": {},
     "output_type": "display_data"
    },
    {
     "data": {
      "application/vnd.jupyter.widget-view+json": {
       "model_id": "",
       "version_major": 2,
       "version_minor": 0
      },
      "text/plain": [
       "VBox(children=(Label(value='262.776 MB of 262.776 MB uploaded (0.002 MB deduped)\\r'), FloatProgress(value=1.0,…"
      ]
     },
     "metadata": {},
     "output_type": "display_data"
    },
    {
     "data": {
      "text/html": [
       "Synced <strong style=\"color:#cdcd00\">true-hill-14</strong>: <a href=\"https://wandb.ai/av-team/drivable-segmentation/runs/pkijxwn1\" target=\"_blank\">https://wandb.ai/av-team/drivable-segmentation/runs/pkijxwn1</a><br/>Synced 6 W&B file(s), 0 media file(s), 66922 artifact file(s) and 0 other file(s)"
      ],
      "text/plain": [
       "<IPython.core.display.HTML object>"
      ]
     },
     "metadata": {},
     "output_type": "display_data"
    },
    {
     "data": {
      "text/html": [
       "Find logs at: <code>./wandb/run-20220905_223942-pkijxwn1/logs</code>"
      ],
      "text/plain": [
       "<IPython.core.display.HTML object>"
      ]
     },
     "metadata": {},
     "output_type": "display_data"
    }
   ],
   "source": [
    "# Initialize a W&B run\n",
    "run = wandb.init(\n",
    "    entity=\"av-team\",\n",
    "    project=\"drivable-segmentation\",\n",
    "    job_type=\"upload-masks\",\n",
    ")\n",
    "\n",
    "# Upload train data as artifact\n",
    "upload_dataset('train')\n",
    "\n",
    "# Finish the W&B process\n",
    "wandb.finish()"
   ]
  },
  {
   "cell_type": "code",
   "execution_count": 6,
   "id": "3c45455a",
   "metadata": {},
   "outputs": [
    {
     "data": {
      "text/html": [
       "Tracking run with wandb version 0.13.2"
      ],
      "text/plain": [
       "<IPython.core.display.HTML object>"
      ]
     },
     "metadata": {},
     "output_type": "display_data"
    },
    {
     "data": {
      "text/html": [
       "Run data is saved locally in <code>/Users/ayushthakur/integrations/bdk10k/av-drivable-segmentation/notebooks/wandb/run-20220905_231910-2yq9my75</code>"
      ],
      "text/plain": [
       "<IPython.core.display.HTML object>"
      ]
     },
     "metadata": {},
     "output_type": "display_data"
    },
    {
     "data": {
      "text/html": [
       "Syncing run <strong><a href=\"https://wandb.ai/av-team/drivable-segmentation/runs/2yq9my75\" target=\"_blank\">eternal-frog-15</a></strong> to <a href=\"https://wandb.ai/av-team/drivable-segmentation\" target=\"_blank\">Weights & Biases</a> (<a href=\"https://wandb.me/run\" target=\"_blank\">docs</a>)<br/>"
      ],
      "text/plain": [
       "<IPython.core.display.HTML object>"
      ]
     },
     "metadata": {},
     "output_type": "display_data"
    },
    {
     "name": "stderr",
     "output_type": "stream",
     "text": [
      "\u001b[34m\u001b[1mwandb\u001b[0m: Adding directory to artifact (./../../bdd100k/labels/drivable/masks/val)... Done. 4.9s\n"
     ]
    },
    {
     "data": {
      "text/html": [
       "Waiting for W&B process to finish... <strong style=\"color:green\">(success).</strong>"
      ],
      "text/plain": [
       "<IPython.core.display.HTML object>"
      ]
     },
     "metadata": {},
     "output_type": "display_data"
    },
    {
     "data": {
      "application/vnd.jupyter.widget-view+json": {
       "model_id": "",
       "version_major": 2,
       "version_minor": 0
      },
      "text/plain": [
       "VBox(children=(Label(value='37.525 MB of 37.525 MB uploaded (0.002 MB deduped)\\r'), FloatProgress(value=1.0, m…"
      ]
     },
     "metadata": {},
     "output_type": "display_data"
    },
    {
     "data": {
      "text/html": [
       "Synced <strong style=\"color:#cdcd00\">eternal-frog-15</strong>: <a href=\"https://wandb.ai/av-team/drivable-segmentation/runs/2yq9my75\" target=\"_blank\">https://wandb.ai/av-team/drivable-segmentation/runs/2yq9my75</a><br/>Synced 6 W&B file(s), 0 media file(s), 9547 artifact file(s) and 0 other file(s)"
      ],
      "text/plain": [
       "<IPython.core.display.HTML object>"
      ]
     },
     "metadata": {},
     "output_type": "display_data"
    },
    {
     "data": {
      "text/html": [
       "Find logs at: <code>./wandb/run-20220905_231910-2yq9my75/logs</code>"
      ],
      "text/plain": [
       "<IPython.core.display.HTML object>"
      ]
     },
     "metadata": {},
     "output_type": "display_data"
    }
   ],
   "source": [
    "# Initialize a W&B run\n",
    "run = wandb.init(\n",
    "    entity=\"av-team\",\n",
    "    project=\"drivable-segmentation\",\n",
    "    job_type=\"upload-masks\",\n",
    ")\n",
    "\n",
    "# Upload val data as artifact\n",
    "upload_dataset('val')\n",
    "\n",
    "# Finish the W&B process\n",
    "wandb.finish()"
   ]
  },
  {
   "cell_type": "code",
   "execution_count": null,
   "id": "6025f378",
   "metadata": {},
   "outputs": [],
   "source": []
  }
 ],
 "metadata": {
  "kernelspec": {
   "display_name": "Python 3 (ipykernel)",
   "language": "python",
   "name": "python3"
  },
  "language_info": {
   "codemirror_mode": {
    "name": "ipython",
    "version": 3
   },
   "file_extension": ".py",
   "mimetype": "text/x-python",
   "name": "python",
   "nbconvert_exporter": "python",
   "pygments_lexer": "ipython3",
   "version": "3.9.12"
  }
 },
 "nbformat": 4,
 "nbformat_minor": 5
}
