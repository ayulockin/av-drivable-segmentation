{
 "cells": [
  {
   "cell_type": "code",
   "execution_count": 8,
   "id": "33451e81",
   "metadata": {},
   "outputs": [],
   "source": [
    "import os\n",
    "import numpy as np\n",
    "from tqdm import tqdm\n",
    "import matplotlib.pyplot as plt"
   ]
  },
  {
   "cell_type": "code",
   "execution_count": 3,
   "id": "ae602ccf",
   "metadata": {},
   "outputs": [
    {
     "data": {
      "text/plain": [
       "(True, True)"
      ]
     },
     "execution_count": 3,
     "metadata": {},
     "output_type": "execute_result"
    }
   ],
   "source": [
    "IMGS_PATH = \"../../bdd100k/images/10k\"\n",
    "MASKS_PATH = \"../../bdd100k/labels/drivable/masks\"\n",
    "os.path.isdir(IMGS_PATH), os.path.isdir(MASKS_PATH)"
   ]
  },
  {
   "cell_type": "code",
   "execution_count": 16,
   "id": "5f86f333",
   "metadata": {},
   "outputs": [
    {
     "name": "stdout",
     "output_type": "stream",
     "text": [
      "['a59131a5-00000000.jpg', '80c69c6d-c504878b.jpg', '81c893f6-127e8cb0.jpg', '9cc5345c-096b562a.jpg', 'a933bbf8-174d4128.jpg']\n",
      "**********\n",
      "['bab692c9-35904fdb.png', 'c87a6aba-757a0a27.png', 'bcfdd6af-c3d0b55a.png', 'b5cd3939-a7dffd2d.png', 'bf6789ed-4089397b.png']\n"
     ]
    }
   ],
   "source": [
    "# Train files\n",
    "train_img_files = os.listdir(f\"{IMGS_PATH}/train\")\n",
    "train_mask_files = os.listdir(f\"{MASKS_PATH}/train\")\n",
    "\n",
    "# Val files\n",
    "val_img_files = os.listdir(f\"{IMGS_PATH}/val\")\n",
    "val_mask_files = os.listdir(f\"{MASKS_PATH}/val\")\n",
    "\n",
    "print(val_img_files[:5])\n",
    "print(\"*\"*10)\n",
    "print(val_mask_files[:5])"
   ]
  },
  {
   "cell_type": "code",
   "execution_count": 17,
   "id": "fc67a812",
   "metadata": {},
   "outputs": [
    {
     "name": "stdout",
     "output_type": "stream",
     "text": [
      "7000 70000\n",
      "1000 10000\n"
     ]
    }
   ],
   "source": [
    "# Are there equal number of train images and associated masks\n",
    "print(len(train_img_files), len(train_mask_files))\n",
    "# # Are there equal number of val images and associated masks\n",
    "print(len(val_img_files), len(val_mask_files))"
   ]
  },
  {
   "cell_type": "markdown",
   "id": "1caab3a1",
   "metadata": {},
   "source": [
    "> Since BDD10K is a subset of BDD100K, let's try to find if all images has associated masks."
   ]
  },
  {
   "cell_type": "code",
   "execution_count": 18,
   "id": "8cfccdb1",
   "metadata": {},
   "outputs": [
    {
     "name": "stderr",
     "output_type": "stream",
     "text": [
      "100%|███████████████████████████████████████████████████████████████████████████████████████████████████| 7000/7000 [00:08<00:00, 855.50it/s]\n",
      "100%|██████████████████████████████████████████████████████████████████████████████████████████████████| 1000/1000 [00:00<00:00, 5008.19it/s]\n"
     ]
    }
   ],
   "source": [
    "train_found = []\n",
    "val_found = []\n",
    "\n",
    "for file in tqdm(train_img_files):\n",
    "    file_id = file.split('.')[0]\n",
    "    if f\"{file_id}.png\" in train_mask_files:\n",
    "        train_found.append(file_id)\n",
    "        \n",
    "for file in tqdm(val_img_files):\n",
    "    file_id = file.split('.')[0]\n",
    "    if f\"{file_id}.png\" in val_mask_files:\n",
    "        val_found.append(file_id)"
   ]
  },
  {
   "cell_type": "code",
   "execution_count": 19,
   "id": "9afefed6",
   "metadata": {},
   "outputs": [
    {
     "name": "stdout",
     "output_type": "stream",
     "text": [
      "Number of files in BDD10k (train) that has drivable masks:  2976\n",
      "Number of files in BDD10k (val) that has drivable masks:  0\n"
     ]
    }
   ],
   "source": [
    "print(\"Number of files in BDD10k (train) that has drivable masks: \", len(train_found))\n",
    "print(\"Number of files in BDD10k (val) that has drivable masks: \", len(val_found))"
   ]
  },
  {
   "cell_type": "markdown",
   "id": "a8b7632a",
   "metadata": {},
   "source": [
    "> Shoot! We cannot work with BDD10k."
   ]
  }
 ],
 "metadata": {
  "kernelspec": {
   "display_name": "Python 3 (ipykernel)",
   "language": "python",
   "name": "python3"
  },
  "language_info": {
   "codemirror_mode": {
    "name": "ipython",
    "version": 3
   },
   "file_extension": ".py",
   "mimetype": "text/x-python",
   "name": "python",
   "nbconvert_exporter": "python",
   "pygments_lexer": "ipython3",
   "version": "3.9.12"
  }
 },
 "nbformat": 4,
 "nbformat_minor": 5
}
